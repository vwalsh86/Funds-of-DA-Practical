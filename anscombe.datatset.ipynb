{
 "cells": [
  {
   "cell_type": "markdown",
   "metadata": {},
   "source": [
    "## The Anscombe's Quartet Dataset"
   ]
  },
  {
   "cell_type": "markdown",
   "metadata": {},
   "source": [
    "## Submitted by: Valerie Walsh G00364748"
   ]
  },
  {
   "cell_type": "markdown",
   "metadata": {},
   "source": [
    "------------------------------------------------------------------------------------------------------"
   ]
  },
  {
   "cell_type": "markdown",
   "metadata": {},
   "source": [
    "### Assignment: Fundamentals of Data Analysis"
   ]
  },
  {
   "cell_type": "markdown",
   "metadata": {},
   "source": [
    "### Submission Date: 9th November 2018"
   ]
  },
  {
   "cell_type": "markdown",
   "metadata": {},
   "source": [
    "------------------------------------------------------------------------------------------------------"
   ]
  },
  {
   "cell_type": "markdown",
   "metadata": {},
   "source": [
    "## Table of Contents\n",
    "### Introduction\n",
    "### Statement of Work\n",
    "### Technology Used\n",
    "### Aim of Investigation\n",
    "### Findings\n",
    "### References"
   ]
  },
  {
   "cell_type": "markdown",
   "metadata": {},
   "source": [
    "------------------------------------------------------------------------------------------------------"
   ]
  },
  {
   "cell_type": "markdown",
   "metadata": {},
   "source": [
    "## Introduction"
   ]
  },
  {
   "cell_type": "markdown",
   "metadata": {},
   "source": [
    "This repository has been created as apart of my ongoing studies in Data Analytics.\n",
    "My intention with this repository is to investigate the Anscombe's Quartet Dataset using the available functions within Jupyter. \n",
    "This dataset was constructed to highlight the importance of using graphs in statistical analysis"
   ]
  },
  {
   "cell_type": "markdown",
   "metadata": {},
   "source": [
    "------------------------------------------------------------------------------------------------------"
   ]
  },
  {
   "cell_type": "markdown",
   "metadata": {},
   "source": [
    "## Statement of Work"
   ]
  },
  {
   "cell_type": "markdown",
   "metadata": {},
   "source": [
    "This is a statement to confirm that the work submitted within this repository is my own work. Any information sourced online or 3rd party has been referenced appropriately. I can therefore confirm that my submitted work is in line with the Quality Assurance Framework of GMIT."
   ]
  },
  {
   "cell_type": "markdown",
   "metadata": {},
   "source": [
    "------------------------------------------------------------------------------------------------------"
   ]
  },
  {
   "cell_type": "markdown",
   "metadata": {},
   "source": [
    "## Technology Used"
   ]
  },
  {
   "cell_type": "markdown",
   "metadata": {},
   "source": [
    "* Anaconda software package\n",
    "* Python Programming Language\n",
    "* Command Prompt\n",
    "* Jupyter Notebook\n",
    "* GitHub.com\n",
    "* LearnOnline (GMIT)"
   ]
  },
  {
   "cell_type": "markdown",
   "metadata": {},
   "source": [
    "------------------------------------------------------------------------------------------------------"
   ]
  },
  {
   "cell_type": "markdown",
   "metadata": {},
   "source": [
    "## Aim of Investigation"
   ]
  },
  {
   "cell_type": "markdown",
   "metadata": {},
   "source": [
    "It is my intention to:\n",
    "1. Explain the background to the dataset\n",
    "1. Plot any interesting aspects of the dataset\n",
    "1. Calculate the descriptive statistics of the variables in the dataset\n",
    "1. Explain why the dataset is interesting based on the previously obtained info"
   ]
  },
  {
   "cell_type": "markdown",
   "metadata": {},
   "source": [
    "------------------------------------------------------------------------------------------------------"
   ]
  },
  {
   "cell_type": "markdown",
   "metadata": {},
   "source": [
    "## Findings"
   ]
  },
  {
   "cell_type": "markdown",
   "metadata": {},
   "source": [
    "#### 1. The background to the dataset\n",
    "\n",
    "In 1973, a statistician called Francis Anscombe constructed the dataset quartet. His philosophy of the dataset was to \"demonstrate both the importance of graphing data before analyzing it and the effect of outliers on statistical properties.\"[1] His development questioned the opinion another staticians that \"numerical calculations are exact, but graphs are rough.\"\n",
    "<br>\n",
    "![anscombe](dataset.gif)\n",
    "<br>\n",
    "The breakdown of the information contained within the datasets: There are 8 variables; representing four pairings of an outcome and a predictor.\n",
    "\n",
    "All sets have 11 observations:\n",
    "the same mean of x (9) and y (7.5),\n",
    "the same fitted regression line (y = 3 + 0.5 x),\n",
    "the same regression and residual sum of squares and therefore the same multiple R-squared of 0.67. But they represent very different situations, as you will see by clicking on each dataset[2]\n",
    "\n",
    "This dataset has proven to me that statistics do not always tell the entire story when it comes to results given by data. And visualising the data allows an unbiased insight into the analysing of the data.\n",
    "\n",
    "This was deemed an issue by Anscombe and for this reason that he went on to create the quartet of datasets to visually show this flaw. [3]\n",
    "\n",
    "A 'real-life' example to highlight Anscombe's work is the following study carried out in 2012.\n",
    "The study involved the comparison of starting wages for law graduates based on \"The National Association of Law Placement (NALP)\" report from 2012.\n",
    "In summary, the statistical data showed the starting average wage was 80,798. When the data was graphed however, it showed two peaks in the data between 35,000USD - 75000USD at again at 160000USD.\n",
    "\"A much more accurate statement would be that most law graduates make around 50,000USD on average, and those who go to one of the top law schools make 160,000USD on average.\"[4]\n",
    "<br><br>\n",
    "\n",
    "\n",
    "<img src=\"LawSalary.gif\" height=\"400\" width=\"400\">\n",
    "\n",
    "<br><br>\n",
    "\n",
    "In 2017, a man by the name of Alberto Cairo, inspired by Anscombe's work, tweeted an image showing how his data looked when graphed. It turned out to be in the shape of a dinosaur.<br>\n",
    "While sharing his work, he urges people to *\"never trust summary statistics alone; always visualize your data\"*[5]\n",
    "\n",
    "<img src=\"datasaurus.png\" height=\"400\" width =\"400\">\n",
    "<br><br>\n",
    "\n",
    "Cairo caused a ripple effect from his work as at the end of 2017 - start of 2018 another publication involving the Datasaurus was created but this time it included an additional 12 plots with similar statistics but very different graphs when plotted.\n",
    "\n",
    "<br>\n",
    "*\"These 13 datasets (the Datasaurus, plus 12 others) each have the same summary statistics (x/y mean, x/y standard deviation, and Pearson's correlation) to two decimal places, while being drastically different in appearance.\"*[6]\n",
    "<br><br>\n",
    "\n",
    "<img src=\"DataDozen.png\" height=\"600\" width=\"800\">\n",
    "[6]\n",
    "\n",
    "\n",
    "#### 2. Plot any interesting aspects of the dataset "
   ]
  },
  {
   "cell_type": "markdown",
   "metadata": {},
   "source": [
    "The below graph shows the entire data of the quartet<br>\n",
    "Based on the summary properties, there is not huge difference in them, showing the close relationship when it comes to the black and white data.<br><br>\n",
    "Should you solely rely on the below output rather than visual graphs, it would be easy to assume these were more closely related than they actually are.<br>\n",
    "Once viewing the graphs it is easy to see just how different the outputs are based on the shapes they produce on graphs."
   ]
  },
  {
   "cell_type": "code",
   "execution_count": 67,
   "metadata": {},
   "outputs": [
    {
     "data": {
      "text/html": [
       "<div>\n",
       "<style scoped>\n",
       "    .dataframe tbody tr th:only-of-type {\n",
       "        vertical-align: middle;\n",
       "    }\n",
       "\n",
       "    .dataframe tbody tr th {\n",
       "        vertical-align: top;\n",
       "    }\n",
       "\n",
       "    .dataframe thead tr th {\n",
       "        text-align: left;\n",
       "    }\n",
       "</style>\n",
       "<table border=\"1\" class=\"dataframe\">\n",
       "  <thead>\n",
       "    <tr>\n",
       "      <th></th>\n",
       "      <th>x1</th>\n",
       "      <th>x2</th>\n",
       "      <th>x3</th>\n",
       "      <th>x4</th>\n",
       "      <th>y1</th>\n",
       "      <th>y2</th>\n",
       "      <th>y3</th>\n",
       "      <th>y4</th>\n",
       "    </tr>\n",
       "    <tr>\n",
       "      <th>1</th>\n",
       "      <th>10</th>\n",
       "      <th>10</th>\n",
       "      <th>10</th>\n",
       "      <th>8</th>\n",
       "      <th>8.04</th>\n",
       "      <th>9.14</th>\n",
       "      <th>7.46</th>\n",
       "      <th>6.58</th>\n",
       "    </tr>\n",
       "  </thead>\n",
       "  <tbody>\n",
       "    <tr>\n",
       "      <th>2</th>\n",
       "      <td>8</td>\n",
       "      <td>8</td>\n",
       "      <td>8</td>\n",
       "      <td>8</td>\n",
       "      <td>6.95</td>\n",
       "      <td>8.14</td>\n",
       "      <td>6.77</td>\n",
       "      <td>5.76</td>\n",
       "    </tr>\n",
       "    <tr>\n",
       "      <th>3</th>\n",
       "      <td>13</td>\n",
       "      <td>13</td>\n",
       "      <td>13</td>\n",
       "      <td>8</td>\n",
       "      <td>7.58</td>\n",
       "      <td>8.74</td>\n",
       "      <td>12.74</td>\n",
       "      <td>7.71</td>\n",
       "    </tr>\n",
       "    <tr>\n",
       "      <th>4</th>\n",
       "      <td>9</td>\n",
       "      <td>9</td>\n",
       "      <td>9</td>\n",
       "      <td>8</td>\n",
       "      <td>8.81</td>\n",
       "      <td>8.77</td>\n",
       "      <td>7.11</td>\n",
       "      <td>8.84</td>\n",
       "    </tr>\n",
       "    <tr>\n",
       "      <th>5</th>\n",
       "      <td>11</td>\n",
       "      <td>11</td>\n",
       "      <td>11</td>\n",
       "      <td>8</td>\n",
       "      <td>8.33</td>\n",
       "      <td>9.26</td>\n",
       "      <td>7.81</td>\n",
       "      <td>8.47</td>\n",
       "    </tr>\n",
       "    <tr>\n",
       "      <th>6</th>\n",
       "      <td>14</td>\n",
       "      <td>14</td>\n",
       "      <td>14</td>\n",
       "      <td>8</td>\n",
       "      <td>9.96</td>\n",
       "      <td>8.10</td>\n",
       "      <td>8.84</td>\n",
       "      <td>7.04</td>\n",
       "    </tr>\n",
       "    <tr>\n",
       "      <th>7</th>\n",
       "      <td>6</td>\n",
       "      <td>6</td>\n",
       "      <td>6</td>\n",
       "      <td>8</td>\n",
       "      <td>7.24</td>\n",
       "      <td>6.13</td>\n",
       "      <td>6.08</td>\n",
       "      <td>5.25</td>\n",
       "    </tr>\n",
       "    <tr>\n",
       "      <th>8</th>\n",
       "      <td>4</td>\n",
       "      <td>4</td>\n",
       "      <td>4</td>\n",
       "      <td>19</td>\n",
       "      <td>4.26</td>\n",
       "      <td>3.10</td>\n",
       "      <td>5.39</td>\n",
       "      <td>12.50</td>\n",
       "    </tr>\n",
       "    <tr>\n",
       "      <th>9</th>\n",
       "      <td>12</td>\n",
       "      <td>12</td>\n",
       "      <td>12</td>\n",
       "      <td>8</td>\n",
       "      <td>10.84</td>\n",
       "      <td>9.13</td>\n",
       "      <td>8.15</td>\n",
       "      <td>5.56</td>\n",
       "    </tr>\n",
       "    <tr>\n",
       "      <th>10</th>\n",
       "      <td>7</td>\n",
       "      <td>7</td>\n",
       "      <td>7</td>\n",
       "      <td>8</td>\n",
       "      <td>4.82</td>\n",
       "      <td>7.26</td>\n",
       "      <td>6.42</td>\n",
       "      <td>7.91</td>\n",
       "    </tr>\n",
       "    <tr>\n",
       "      <th>11</th>\n",
       "      <td>5</td>\n",
       "      <td>5</td>\n",
       "      <td>5</td>\n",
       "      <td>8</td>\n",
       "      <td>5.68</td>\n",
       "      <td>4.74</td>\n",
       "      <td>5.73</td>\n",
       "      <td>6.89</td>\n",
       "    </tr>\n",
       "  </tbody>\n",
       "</table>\n",
       "</div>"
      ],
      "text/plain": [
       "    x1  x2  x3  x4     y1    y2     y3     y4\n",
       "1   10  10  10   8   8.04  9.14   7.46   6.58\n",
       "2    8   8   8   8   6.95  8.14   6.77   5.76\n",
       "3   13  13  13   8   7.58  8.74  12.74   7.71\n",
       "4    9   9   9   8   8.81  8.77   7.11   8.84\n",
       "5   11  11  11   8   8.33  9.26   7.81   8.47\n",
       "6   14  14  14   8   9.96  8.10   8.84   7.04\n",
       "7    6   6   6   8   7.24  6.13   6.08   5.25\n",
       "8    4   4   4  19   4.26  3.10   5.39  12.50\n",
       "9   12  12  12   8  10.84  9.13   8.15   5.56\n",
       "10   7   7   7   8   4.82  7.26   6.42   7.91\n",
       "11   5   5   5   8   5.68  4.74   5.73   6.89"
      ]
     },
     "execution_count": 67,
     "metadata": {},
     "output_type": "execute_result"
    }
   ],
   "source": [
    "# http://nbviewer.jupyter.org/github/psychemedia/ou-tm351/blob/master/notebooks-RFC/Anscombe's%20Quartet%20%5Bopen%5D.ipynb [7]\n",
    "import pandas as pd\n",
    "aq=pd.read_csv('anscombe.csv',header=[0,1],index_col=[0])\n",
    "aq"
   ]
  },
  {
   "cell_type": "code",
   "execution_count": 47,
   "metadata": {},
   "outputs": [
    {
     "data": {
      "text/plain": [
       "Text(0,0.5,'y axis')"
      ]
     },
     "execution_count": 47,
     "metadata": {},
     "output_type": "execute_result"
    },
    {
     "data": {
      "image/png": "[encoded data removed]",
      "text/plain": [
       "<Figure size 432x288 with 3 Axes>"
      ]
     },
     "metadata": {
      "needs_background": "light"
     },
     "output_type": "display_data"
    }
   ],
   "source": [
    "#Created 3 side-by-side plots to view the min, max & mean outputs visually \n",
    "plt.subplot(1,3,1)\n",
    "l = aq.min()\n",
    "plt.hist(l)\n",
    "plt.title(\"Min\")\n",
    "plt.xlabel(\"x axis\")\n",
    "plt.ylabel(\"y axis\")\n",
    "\n",
    "plt.subplot(1,3,2)\n",
    "y = aq.max()\n",
    "plt.hist(y)\n",
    "plt.title(\"Max\")\n",
    "plt.xlabel(\"x axis\")\n",
    "plt.ylabel(\"y axis\")\n",
    "\n",
    "plt.subplot(1,3,3)\n",
    "z = aq.mean()\n",
    "plt.hist(z)\n",
    "plt.title(\"Mean\")\n",
    "plt.xlabel(\"x axis\")\n",
    "plt.ylabel(\"y axis\")"
   ]
  },
  {
   "cell_type": "code",
   "execution_count": 48,
   "metadata": {},
   "outputs": [
    {
     "data": {
      "image/png": "[encoded data removed]",
      "text/plain": [
       "<Figure size 432x288 with 1 Axes>"
      ]
     },
     "metadata": {
      "needs_background": "light"
     },
     "output_type": "display_data"
    }
   ],
   "source": [
    "# Variance as a visual\n",
    "plt.subplot(1,3,3)\n",
    "h = aq.var()\n",
    "plt.hist(h)\n",
    "plt.title(\"Variance\")\n",
    "plt.xlabel(\"x axis\")\n",
    "plt.ylabel(\"y axis\")\n",
    "\n",
    "plt.show()"
   ]
  },
  {
   "cell_type": "markdown",
   "metadata": {},
   "source": [
    "#### 3. Calculate the descriptive statistics of the variables in the dataset"
   ]
  },
  {
   "cell_type": "markdown",
   "metadata": {},
   "source": [
    "*\"Descriptive statistics are used to describe the basic features of the data in a study. They provide simple summaries about the sample and the measures. Together with simple graphics analysis, they form the basis of virtually every quantitative analysis of data.\"* [8]\n",
    "\n",
    "<br><br>\n",
    "The website that has this definition of Descriptive Statistics also wrote some interesting examples of what happen when you include solely statistics rather than a overview of all available content.<br>\n",
    "The first example relates to American baseball and if you were to take the statistics of a batter. If you were to only review the times the batter hit a ball it leaves it open to a very critical review; how many they missed vs hit.<br><br>\n",
    "*\"The batting average doesn't tell you whether the batter is hitting home runs or singles. It doesn't tell whether she's been in a slump or on a streak.\"*[8]<br><br>\n",
    "<br>\n",
    "Another example relates to a student and their result for a term. Again the result is the final number, a single piece of data defining the student's overall ability in the course. However the other aspects of the data from this example would include:<br>\n",
    "* The level of the course being taken\n",
    "* The difficulty of the subjects\n",
    "* If these subjects were in their field of expertise or other areas. "
   ]
  },
  {
   "cell_type": "code",
   "execution_count": 20,
   "metadata": {},
   "outputs": [
    {
     "data": {
      "text/plain": [
       "    1   \n",
       "x1  10      8.900\n",
       "x2  10      8.900\n",
       "x3  10      8.900\n",
       "x4  8       9.100\n",
       "y1  8.04    7.447\n",
       "y2  9.14    7.337\n",
       "y3  7.46    7.504\n",
       "y4  6.58    7.593\n",
       "dtype: float64"
      ]
     },
     "execution_count": 20,
     "metadata": {},
     "output_type": "execute_result"
    }
   ],
   "source": [
    "aq.mean()"
   ]
  },
  {
   "cell_type": "markdown",
   "metadata": {},
   "source": [
    "In the above code, I requested the mean as an output and as we can see:\n",
    "* The average mean of the X axis = 8.95\n",
    "* The average mean of the X axis = 7.47\n",
    "<br><br>"
   ]
  },
  {
   "cell_type": "code",
   "execution_count": 31,
   "metadata": {},
   "outputs": [
    {
     "data": {
      "text/plain": [
       "    1   \n",
       "x1  10      4.00\n",
       "x2  10      4.00\n",
       "x3  10      4.00\n",
       "x4  8       8.00\n",
       "y1  8.04    4.26\n",
       "y2  9.14    3.10\n",
       "y3  7.46    5.39\n",
       "y4  6.58    5.25\n",
       "dtype: float64"
      ]
     },
     "execution_count": 31,
     "metadata": {},
     "output_type": "execute_result"
    }
   ],
   "source": [
    "# The min of the quartet dataset\n",
    "aq.min()"
   ]
  },
  {
   "cell_type": "code",
   "execution_count": 32,
   "metadata": {},
   "outputs": [
    {
     "data": {
      "text/plain": [
       "    1   \n",
       "x1  10      14.00\n",
       "x2  10      14.00\n",
       "x3  10      14.00\n",
       "x4  8       19.00\n",
       "y1  8.04    10.84\n",
       "y2  9.14     9.26\n",
       "y3  7.46    12.74\n",
       "y4  6.58    12.50\n",
       "dtype: float64"
      ]
     },
     "execution_count": 32,
     "metadata": {},
     "output_type": "execute_result"
    }
   ],
   "source": [
    "# The max of the quartet dataset\n",
    "aq.max()"
   ]
  },
  {
   "cell_type": "markdown",
   "metadata": {},
   "source": [
    "<br>\n",
    "Having requested the min, max and mean output it is clear to see the close relationship and almost identical data for both axis of each graph. <br><br>\n",
    "Gives plenty of backing to the old phrase that seeing really is believing.<br><br>"
   ]
  },
  {
   "cell_type": "code",
   "execution_count": 33,
   "metadata": {},
   "outputs": [
    {
     "data": {
      "text/plain": [
       "    1   \n",
       "x1  10      12.100000\n",
       "x2  10      12.100000\n",
       "x3  10      12.100000\n",
       "x4  8       12.100000\n",
       "y1  8.04     4.550334\n",
       "y2  9.14     4.257890\n",
       "y3  7.46     4.580493\n",
       "y4  6.58     4.477734\n",
       "dtype: float64"
      ]
     },
     "execution_count": 33,
     "metadata": {},
     "output_type": "execute_result"
    }
   ],
   "source": [
    "# The variances of the quartet dataset\n",
    "aq.var()"
   ]
  },
  {
   "cell_type": "code",
   "execution_count": 66,
   "metadata": {},
   "outputs": [
    {
     "name": "stdout",
     "output_type": "stream",
     "text": [
      "      1st   2nd   3rd   4th\n",
      "Min   4.0   4.0   4.0   8.0\n",
      "Max  14.0  14.0  14.0  19.0\n"
     ]
    }
   ],
   "source": [
    "# X Axis Min and Max dataset\n",
    "data = np.array([['','1st','2nd','3rd','4th'],\n",
    "                ['Min',4.0,4.0,4.0,8.0],\n",
    "                ['Max',14.0,14.0,14.0,19.0]])\n",
    "                \n",
    "print(pd.DataFrame(data=data[1:,1:],\n",
    "                  index=data[1:,0],\n",
    "                  columns=data[0,1:]))"
   ]
  },
  {
   "cell_type": "markdown",
   "metadata": {},
   "source": [
    "-----------------------------"
   ]
  },
  {
   "cell_type": "markdown",
   "metadata": {},
   "source": [
    "#### 4. Explain why the dataset is interesting based on the previously obtained info"
   ]
  },
  {
   "cell_type": "markdown",
   "metadata": {},
   "source": [
    "An interesting and contraversial member of the datasets are the outliers. If the outliers were not in the graphs, the data output of each dataset would be incredibly different and by no way closely related to each other.\n",
    "\n",
    "**What is an outlier?**\n",
    "*\"In statistics, an outlier is an observation point that is distant from other observations. An outlier may be due to variability in the measurement or it may indicate experimental error; the latter are sometimes excluded from the data set. An outlier can cause serious problems in statistical analyses.\"*[9]"
   ]
  },
  {
   "cell_type": "markdown",
   "metadata": {},
   "source": [
    "The dataset are interesting based on everything that I have discovered.<br>\n",
    "The outliers in the graphs are mainly contributing to the closeness of the results. If you were to eliminate the outlier in dataset 3 for example this would result in pretty perfect linear regression graph.<br>\n",
    "Graph one is the only one really currently following the line of the graph as a scatter plot result.<br><br>\n",
    "\n",
    "Graph 4 itself has its majority of data located in the area of 8 on the x axis apart from the one outlier way outside the realm of the rest of the data out near 20.<br><br>\n",
    "\n",
    "*\"if the bottom two graphs didn't have that one point that strayed so far from all the other points, their statistical properties would no longer be identical to the two top graphs. In fact, their statistical properties would more accurately resemble the lines that the graphs seem to depict.\"* [3]\n",
    "<br><br>\n",
    "\n",
    "##### Summary\n",
    "<br>\n",
    "I came across some interesting and quite indepth data comparisons when it came to this quartet such as :\n",
    "[10]\n",
    "<br>\n",
    "As my knowledge of these functions grow, I would be interested to return to this and review and improve my quality of work to calculate using different functions and library abilities."
   ]
  },
  {
   "cell_type": "markdown",
   "metadata": {},
   "source": [
    "--------------------------------------"
   ]
  },
  {
   "cell_type": "markdown",
   "metadata": {},
   "source": [
    "--------------------------------------"
   ]
  },
  {
   "cell_type": "markdown",
   "metadata": {},
   "source": [
    "## References:"
   ]
  },
  {
   "cell_type": "markdown",
   "metadata": {},
   "source": [
    "1. https://en.wikipedia.org/wiki/Anscombe%27s_quartet\n",
    "1. http://data.princeton.edu/wws509/stata/anscombe.html\n",
    "1. https://www.mathwarehouse.com/statistics/what-is-anscombes-quartet.php\n",
    "1. https://heapanalytics.com/blog/data-stories/anscombes-quartet-and-why-summary-statistics-dont-tell-the-whole-story\n",
    "1. https://twitter.com/albertocairo/status/770267777169035264?lang=en\n",
    "1. https://www.autodeskresearch.com/publications/samestats\n",
    "1. http://nbviewer.jupyter.org/github/psychemedia/ou-tm351/blob/master/notebooks-RFC/Anscombe's%20Quartet%20%5Bopen%5D.ipynb\n",
    "1. https://www.socialresearchmethods.net/kb/statdesc.htm \n",
    "1. https://en.wikipedia.org/wiki/Outlier\n",
    "1. https://github.com/psychemedia/ou-tm351/blob/master/notebooks-RFC/Anscombe's%20Quartet%20%5Bopen%5D.ipynb\n",
    "1. https://www.r-bloggers.com/using-and-abusing-data-visualization-anscombes-quartet-and-cheating-bonferroni/\n",
    "1. https://blog.ouseful.info/2014/06/30/anscombes-quartet-ipython-notebook/\n",
    "1. https://rstudio-pubs-static.s3.amazonaws.com/52381_36ec82827e4b476fb968d9143aec7c4f.html\n",
    "1. https://pandas.pydata.org/pandas-docs/stable/generated/pandas.DataFrame.describe.html"
   ]
  },
  {
   "cell_type": "code",
   "execution_count": null,
   "metadata": {},
   "outputs": [],
   "source": []
  }
 ],
 "metadata": {
  "kernelspec": {
   "display_name": "Python 3",
   "language": "python",
   "name": "python3"
  },
  "language_info": {
   "codemirror_mode": {
    "name": "ipython",
    "version": 3
   },
   "file_extension": ".py",
   "mimetype": "text/x-python",
   "name": "python",
   "nbconvert_exporter": "python",
   "pygments_lexer": "ipython3",
   "version": "3.7.0"
  }
 },
 "nbformat": 4,
 "nbformat_minor": 2
}
