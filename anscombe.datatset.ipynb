{
 "cells": [
  {
   "cell_type": "markdown",
   "metadata": {},
   "source": [
    "## The Anscombe's Quartet Dataset"
   ]
  },
  {
   "cell_type": "markdown",
   "metadata": {},
   "source": [
    "## Submitted by: Valerie Walsh G00364748"
   ]
  },
  {
   "cell_type": "markdown",
   "metadata": {},
   "source": [
    "------------------------------------------------------------------------------------------------------"
   ]
  },
  {
   "cell_type": "markdown",
   "metadata": {},
   "source": [
    "### Assignment: Fundamentals of Data Analysis"
   ]
  },
  {
   "cell_type": "markdown",
   "metadata": {},
   "source": [
    "### Submission Date: 9th November 2018"
   ]
  },
  {
   "cell_type": "markdown",
   "metadata": {},
   "source": [
    "------------------------------------------------------------------------------------------------------"
   ]
  },
  {
   "cell_type": "markdown",
   "metadata": {},
   "source": [
    "## Table of Contents\n",
    "### Introduction\n",
    "### Statement of Work\n",
    "### Technology Used\n",
    "### Aim of Investigation\n",
    "### Findings\n",
    "### Summary\n",
    "### References"
   ]
  },
  {
   "cell_type": "markdown",
   "metadata": {},
   "source": [
    "------------------------------------------------------------------------------------------------------"
   ]
  },
  {
   "cell_type": "markdown",
   "metadata": {},
   "source": [
    "## Introduction"
   ]
  },
  {
   "cell_type": "markdown",
   "metadata": {},
   "source": [
    "This repository has been created as apart of my ongoing studies in Data Analytics.\n",
    "My intention with this repository is to investigate the Anscombe's Quartet Dataset using the available functions within Jupyter. \n",
    "This dataset was constructed to highlight the importance of using graphs in statistical analysis"
   ]
  },
  {
   "cell_type": "markdown",
   "metadata": {},
   "source": [
    "------------------------------------------------------------------------------------------------------"
   ]
  },
  {
   "cell_type": "markdown",
   "metadata": {},
   "source": [
    "## Statement of Work"
   ]
  },
  {
   "cell_type": "markdown",
   "metadata": {},
   "source": [
    "This is a statement to confirm that the work submitted within this repository is my own work. Any information sourced online or 3rd party has been referenced appropriately. I can therefore confirm that my submitted work is in line with the Quality Assurance Framework of GMIT."
   ]
  },
  {
   "cell_type": "markdown",
   "metadata": {},
   "source": [
    "------------------------------------------------------------------------------------------------------"
   ]
  },
  {
   "cell_type": "markdown",
   "metadata": {},
   "source": [
    "## Technology Used"
   ]
  },
  {
   "cell_type": "markdown",
   "metadata": {},
   "source": [
    "- Anaconda software package\n",
    "- Python Programming Language\n",
    "- Command Prompt\n",
    "- Jupyter Notebook\n",
    "- GitHub.com\n",
    "- LearnOnline (GMIT)"
   ]
  },
  {
   "cell_type": "markdown",
   "metadata": {},
   "source": [
    "------------------------------------------------------------------------------------------------------"
   ]
  },
  {
   "cell_type": "markdown",
   "metadata": {},
   "source": [
    "## Aim of Investigation"
   ]
  },
  {
   "cell_type": "markdown",
   "metadata": {},
   "source": [
    "It is my intention to:\n",
    "1. Explain the background to the dataset\n",
    "1. Plot any interesting aspects of the dataset\n",
    "1. Calculate the descriptive statistics of the variables in the dataset\n",
    "1. Explain why the dataset is interesting based on the previously obtained info"
   ]
  },
  {
   "cell_type": "markdown",
   "metadata": {},
   "source": [
    "------------------------------------------------------------------------------------------------------"
   ]
  },
  {
   "cell_type": "markdown",
   "metadata": {},
   "source": [
    "## Findings"
   ]
  },
  {
   "cell_type": "markdown",
   "metadata": {},
   "source": [
    "#### The background to the dataset\n",
    "\n",
    "In 1973, a statistician called Francis Anscombe constructed the dataset quartet. His philosophy of the dataset was to \"demonstrate both the importance of graphing data before analyzing it and the effect of outliers on statistical properties.\"[1] His development questioned the opinion another staticians that \"numerical calculations are exact, but graphs are rough.\"\n",
    "<br>\n",
    "![anscombe](dataset.gif)\n",
    "<br>\n",
    "The breakdown of the information contained within the datasets: There are 8 variables; representing four pairings of an outcome and a predictor.\n",
    "\n",
    "All sets have 11 observations:\n",
    "the same mean of x (9) and y (7.5),\n",
    "the same fitted regression line (y = 3 + 0.5 x),\n",
    "the same regression and residual sum of squares and therefore the same multiple R-squared of 0.67. But they represent very different situations, as you will see by clicking on each dataset[2]\n",
    "\n",
    "This dataset has proven to me that statistics do not always tell the entire story when it comes to data. Visualising the data allows an unbias insight into the analysing of the data.\n",
    "\n",
    "Reason behind it being created ... \n",
    "\n",
    "I beieve that it was created .....\n",
    "\n",
    "During my studies for this assignment, I came across an interesting 'real-life' example of this dataset.\n",
    "The study involved the comparison of starting wages for law graduates based on \"The National Association of Law Placement (NALP)\" report from 2012.\n",
    "In summary, the statistical data showed the starting average wage was 80,798. When the data was graphed however, it showed two peaks in the data between 35,000USD - 75000USD at again at 160000USD.\n",
    "\"A much more accurate statement would be that most law graduates make around 50,000USD on average, and those who go to one of the top law schools make 160,000USD on average.\"[3]\n",
    "<br><br>\n",
    "![anscombe](LawSalary.gif)\n",
    "\n",
    "<br><br><br>\n",
    "\n",
    "#### Plot any interesting aspects of the dataset "
   ]
  },
  {
   "cell_type": "code",
   "execution_count": 17,
   "metadata": {},
   "outputs": [
    {
     "data": {
      "text/plain": [
       "([array([5., 0., 0., 0., 0., 0., 0., 0., 0., 0.]),\n",
       "  array([0., 5., 0., 0., 0., 0., 0., 0., 0., 0.]),\n",
       "  array([0., 1., 4., 0., 0., 0., 0., 0., 0., 0.]),\n",
       "  array([0., 1., 1., 3., 0., 0., 0., 0., 0., 0.]),\n",
       "  array([0., 1., 0., 2., 2., 0., 0., 0., 0., 0.]),\n",
       "  array([0., 1., 0., 0., 3., 1., 0., 0., 0., 0.]),\n",
       "  array([0., 1., 0., 0., 1., 3., 0., 0., 0., 0.]),\n",
       "  array([0., 1., 0., 0., 0., 1., 3., 0., 0., 0.]),\n",
       "  array([0., 0., 0., 0., 0., 0., 2., 3., 0., 0.]),\n",
       "  array([0., 1., 0., 0., 0., 0., 0., 2., 2., 0.]),\n",
       "  array([0., 1., 0., 0., 0., 0., 0., 0., 3., 1.]),\n",
       "  array([0., 1., 0., 0., 0., 0., 0., 0., 0., 4.])],\n",
       " array([ 0. ,  4.9,  9.8, 14.7, 19.6, 24.5, 29.4, 34.3, 39.2, 44.1, 49. ]),\n",
       " <a list of 12 Lists of Patches objects>)"
      ]
     },
     "execution_count": 17,
     "metadata": {},
     "output_type": "execute_result"
    },
    {
     "data": {
      "image/png": "[encoded data removed]",
      "text/plain": [
       "<Figure size 432x288 with 1 Axes>"
      ]
     },
     "metadata": {
      "needs_background": "light"
     },
     "output_type": "display_data"
    }
   ],
   "source": [
    "# Load libraries\n",
    "import numpy as np\n",
    "import pandas\n",
    "from pandas.plotting import scatter_matrix\n",
    "import matplotlib.pyplot as plt\n",
    "\n",
    "\n",
    "# Load dataset\n",
    "url = \"anscombe.csv\"\n",
    "names = ['sepal-length', 'sepal-width', 'petal-length', 'petal-width', 'class']\n",
    "dataset = pandas.read_csv(url, names=names)\n",
    "\n",
    "# scatter plot matrix\n",
    "plt.hist(dataset)"
   ]
  },
  {
   "cell_type": "code",
   "execution_count": 19,
   "metadata": {},
   "outputs": [
    {
     "data": {
      "text/html": [
       "<div>\n",
       "<style scoped>\n",
       "    .dataframe tbody tr th:only-of-type {\n",
       "        vertical-align: middle;\n",
       "    }\n",
       "\n",
       "    .dataframe tbody tr th {\n",
       "        vertical-align: top;\n",
       "    }\n",
       "\n",
       "    .dataframe thead th {\n",
       "        text-align: right;\n",
       "    }\n",
       "</style>\n",
       "<table border=\"1\" class=\"dataframe\">\n",
       "  <thead>\n",
       "    <tr style=\"text-align: right;\">\n",
       "      <th></th>\n",
       "      <th>sepal-length</th>\n",
       "      <th>sepal-width</th>\n",
       "      <th>petal-length</th>\n",
       "      <th>petal-width</th>\n",
       "      <th>class</th>\n",
       "    </tr>\n",
       "  </thead>\n",
       "  <tbody>\n",
       "    <tr>\n",
       "      <th>count</th>\n",
       "      <td>12</td>\n",
       "      <td>12</td>\n",
       "      <td>12</td>\n",
       "      <td>12</td>\n",
       "      <td>12</td>\n",
       "    </tr>\n",
       "    <tr>\n",
       "      <th>unique</th>\n",
       "      <td>3</td>\n",
       "      <td>12</td>\n",
       "      <td>12</td>\n",
       "      <td>12</td>\n",
       "      <td>12</td>\n",
       "    </tr>\n",
       "    <tr>\n",
       "      <th>top</th>\n",
       "      <td>8</td>\n",
       "      <td>y1</td>\n",
       "      <td>9.26</td>\n",
       "      <td>8.15</td>\n",
       "      <td>7.71</td>\n",
       "    </tr>\n",
       "    <tr>\n",
       "      <th>freq</th>\n",
       "      <td>10</td>\n",
       "      <td>1</td>\n",
       "      <td>1</td>\n",
       "      <td>1</td>\n",
       "      <td>1</td>\n",
       "    </tr>\n",
       "  </tbody>\n",
       "</table>\n",
       "</div>"
      ],
      "text/plain": [
       "       sepal-length sepal-width petal-length petal-width class\n",
       "count            12          12           12          12    12\n",
       "unique            3          12           12          12    12\n",
       "top               8          y1         9.26        8.15  7.71\n",
       "freq             10           1            1           1     1"
      ]
     },
     "execution_count": 19,
     "metadata": {},
     "output_type": "execute_result"
    }
   ],
   "source": [
    "dataset.describe()"
   ]
  },
  {
   "cell_type": "markdown",
   "metadata": {},
   "source": [
    "--------------------------------------"
   ]
  },
  {
   "cell_type": "markdown",
   "metadata": {},
   "source": [
    "## Summary"
   ]
  },
  {
   "cell_type": "code",
   "execution_count": null,
   "metadata": {},
   "outputs": [],
   "source": []
  },
  {
   "cell_type": "markdown",
   "metadata": {},
   "source": [
    "--------------------------------------"
   ]
  },
  {
   "cell_type": "markdown",
   "metadata": {},
   "source": [
    "## References:"
   ]
  },
  {
   "cell_type": "markdown",
   "metadata": {},
   "source": [
    "1. https://en.wikipedia.org/wiki/Anscombe%27s_quartet\n",
    "1. http://data.princeton.edu/wws509/stata/anscombe.html\n",
    "1. https://heapanalytics.com/blog/data-stories/anscombes-quartet-and-why-summary-statistics-dont-tell-the-whole-story\n",
    "1. \n",
    "1. \n",
    "1. \n",
    "1. \n",
    "1. \n",
    "1. \n",
    "1. \n",
    "1. \n",
    "1. \n",
    "1. \n",
    "1. \n",
    "1. \n",
    "1. \n",
    "1. \n",
    "1. \n",
    "1. \n",
    "1. \n",
    "1. \n",
    "1. \n",
    "1. \n",
    "1. \n",
    "1. \n",
    "1. \n",
    "1. "
   ]
  },
  {
   "cell_type": "code",
   "execution_count": null,
   "metadata": {},
   "outputs": [],
   "source": []
  }
 ],
 "metadata": {
  "kernelspec": {
   "display_name": "Python 3",
   "language": "python",
   "name": "python3"
  },
  "language_info": {
   "codemirror_mode": {
    "name": "ipython",
    "version": 3
   },
   "file_extension": ".py",
   "mimetype": "text/x-python",
   "name": "python",
   "nbconvert_exporter": "python",
   "pygments_lexer": "ipython3",
   "version": "3.7.0"
  }
 },
 "nbformat": 4,
 "nbformat_minor": 2
}
