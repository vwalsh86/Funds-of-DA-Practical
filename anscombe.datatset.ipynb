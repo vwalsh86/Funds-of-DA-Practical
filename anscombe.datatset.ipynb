{
 "cells": [
  {
   "cell_type": "markdown",
   "metadata": {},
   "source": [
    "## <u>The Anscombe's Quartet Dataset</u>"
   ]
  },
  {
   "cell_type": "markdown",
   "metadata": {},
   "source": [
    "## <u>Submitted by</u>: Valerie Walsh G00364748"
   ]
  },
  {
   "cell_type": "markdown",
   "metadata": {},
   "source": [
    "------------------------------------------------------------------------------------------------------"
   ]
  },
  {
   "cell_type": "markdown",
   "metadata": {},
   "source": [
    "### <u>Assignment</u>: Fundamentals of Data Analysis"
   ]
  },
  {
   "cell_type": "markdown",
   "metadata": {},
   "source": [
    "### <u>Submission Date</u>: 9th November 2018"
   ]
  },
  {
   "cell_type": "markdown",
   "metadata": {},
   "source": [
    "------------------------------------------------------------------------------------------------------"
   ]
  },
  {
   "cell_type": "markdown",
   "metadata": {},
   "source": [
    "## <u> Table of Contents</u>\n",
    "### Introduction\n",
    "### Statement of Work\n",
    "### Background\n",
    "### Investigation\n",
    "### Findings\n",
    "### Summary\n",
    "### Appendix\n",
    "### Technology Used\n",
    "### References"
   ]
  },
  {
   "cell_type": "markdown",
   "metadata": {},
   "source": [
    "------------------------------------------------------------------------------------------------------"
   ]
  },
  {
   "cell_type": "markdown",
   "metadata": {},
   "source": [
    "## Introduction"
   ]
  },
  {
   "cell_type": "markdown",
   "metadata": {},
   "source": [
    "This repository has been created as apart of my ongoing studies in Data Analytics.\n",
    "My intention with this repository is to investigate the Anscombe's Quartet Dataset using the available functions within Jupyter. \n",
    "This dataset was constructed to highlight the importance of using graphs in statistical analysis"
   ]
  },
  {
   "cell_type": "markdown",
   "metadata": {},
   "source": [
    "------------------------------------------------------------------------------------------------------"
   ]
  },
  {
   "cell_type": "markdown",
   "metadata": {},
   "source": [
    "## Statement of Work"
   ]
  },
  {
   "cell_type": "markdown",
   "metadata": {},
   "source": [
    "This is a statement to confirm that the work submitted within this repository is my own work. Any information sourced online or 3rd party has been referenced appropriately. I can therefore confirm that my submitted work is in line with the Quality Assurance Framework of GMIT."
   ]
  },
  {
   "cell_type": "markdown",
   "metadata": {},
   "source": [
    "------------------------------------------------------------------------------------------------------"
   ]
  },
  {
   "cell_type": "markdown",
   "metadata": {},
   "source": [
    "## Background"
   ]
  },
  {
   "cell_type": "markdown",
   "metadata": {},
   "source": [
    "In 1973, a statistician called Francis Anscombe constructed the dataset quartet.\n",
    "His philosophy of the dataset was to \"demonstrate both the importance of graphing data before analyzing it and the effect of outliers on statistical properties.\"[1]\n",
    "His development questioned the opinion another staticians that \"numerical calculations are exact, but graphs are rough.\"[1]\n",
    "https://en.wikipedia.org/wiki/Anscombe%27s_quartet\n",
    "\n",
    "The breakdown of the information contained within the datasets:\n",
    "There are 8 variables; representing four pairings of an outcome and a predictor. \n",
    "- All sets have 11 observations:\n",
    "- the same mean of x (9) and y (7.5), \n",
    "- the same fitted regression line (y = 3 + 0.5 x), \n",
    "- the same regression and residual sum of squares and therefore the same multiple R-squared of 0.67. But they represent very different situations, as you will see by clicking on each dataset[2]\n",
    "http://data.princeton.edu/wws509/stata/anscombe.html\n",
    "\n",
    "![anscombe](dataset.gif)"
   ]
  },
  {
   "cell_type": "markdown",
   "metadata": {},
   "source": [
    "--------------------------------------"
   ]
  },
  {
   "cell_type": "markdown",
   "metadata": {},
   "source": [
    "## Technology Used"
   ]
  },
  {
   "cell_type": "markdown",
   "metadata": {},
   "source": [
    "- Anaconda software package\n",
    "- Python Programming Language\n",
    "- Command Prompt\n",
    "- Jupyter Notebook\n",
    "- GitHub.com\n",
    "- LearnOnline (GMIT)"
   ]
  },
  {
   "cell_type": "markdown",
   "metadata": {},
   "source": [
    "------------------------------------------------------------------------------------------------------"
   ]
  },
  {
   "cell_type": "markdown",
   "metadata": {},
   "source": [
    "## Investigation"
   ]
  },
  {
   "cell_type": "markdown",
   "metadata": {},
   "source": [
    "It is my intention to\n",
    "- Explain the background to the dataset\n",
    "- Plot any interesting aspects of the dataset\n",
    "- Calculate the descriptive statistics of the variables in the dataset\n",
    "- Explain why the dataset is interesting based on the previously obtained info"
   ]
  },
  {
   "cell_type": "markdown",
   "metadata": {},
   "source": [
    "------------------------------------------------------------------------------------------------------"
   ]
  },
  {
   "cell_type": "markdown",
   "metadata": {},
   "source": [
    "## Findings"
   ]
  },
  {
   "cell_type": "markdown",
   "metadata": {},
   "source": [
    "This dataset has proven to me that statistics do not always tell the entire story when it comes to data. Visualising the data allows an unbias insight into the analysing of the data.\n",
    "\n",
    "Reason behind it being created ... \n",
    "\n",
    "I beieve that it was created .....\n",
    "\n",
    "During my studies for this assignment, I came across an interesting 'real-life' example of this dataset.\n",
    "The study involved the comparison of starting wages for law graduates based on \"The National Association of Law Placement (NALP)\" report from 2012.\n",
    "In summary, the statistical data showed the starting average wage was 80,798. When the data was graphed however, it showed two peaks in the data between 35,000USD - 75000USD at again at 160000USD.\n",
    "\"A much more accurate statement would be that most law graduates make around 50,000USD on average, and those who go to one of the top law schools make 160,000USD on average.\"[3]\n",
    "<br><br><br>\n",
    "![anscombe](LawSalary.gif)\n",
    "\n",
    "\n",
    "\n",
    "\n",
    "\n",
    "https://heapanalytics.com/blog/data-stories/anscombes-quartet-and-why-summary-statistics-dont-tell-the-whole-story"
   ]
  },
  {
   "cell_type": "markdown",
   "metadata": {},
   "source": [
    "--------------------------------------"
   ]
  },
  {
   "cell_type": "markdown",
   "metadata": {},
   "source": [
    "## Summary"
   ]
  },
  {
   "cell_type": "code",
   "execution_count": null,
   "metadata": {},
   "outputs": [],
   "source": []
  },
  {
   "cell_type": "markdown",
   "metadata": {},
   "source": [
    "--------------------------------------"
   ]
  },
  {
   "cell_type": "markdown",
   "metadata": {},
   "source": [
    "## References:"
   ]
  },
  {
   "cell_type": "markdown",
   "metadata": {},
   "source": [
    "- https://stackoverflow.com/questions/32370281/how-to-include-image-or-picture-in-jupyter-notebook\n",
    "- https://en.wikipedia.org/wiki/Anscombe%27s_quartet\n",
    "- http://data.princeton.edu/wws509/stata/anscombe.html\n",
    "- https://heapanalytics.com/blog/data-stories/anscombes-quartet-and-why-summary-statistics-dont-tell-the-whole-story"
   ]
  }
 ],
 "metadata": {
  "kernelspec": {
   "display_name": "Python 3",
   "language": "python",
   "name": "python3"
  },
  "language_info": {
   "codemirror_mode": {
    "name": "ipython",
    "version": 3
   },
   "file_extension": ".py",
   "mimetype": "text/x-python",
   "name": "python",
   "nbconvert_exporter": "python",
   "pygments_lexer": "ipython3",
   "version": "3.7.0"
  }
 },
 "nbformat": 4,
 "nbformat_minor": 2
}
